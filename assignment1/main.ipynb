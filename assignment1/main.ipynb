{
 "cells": [
  {
   "cell_type": "markdown",
   "source": [
    "# CS324 Assignment 1 Perceptron\n",
    "\n",
    "Kunyi Yu 12013027\n",
    "\n",
    "----"
   ],
   "metadata": {
    "collapsed": false
   },
   "id": "264b50d2e14f751a"
  },
  {
   "cell_type": "code",
   "execution_count": 43,
   "outputs": [],
   "source": [
    "import numpy as np\n",
    "import torch\n",
    "from matplotlib import pyplot as plt\n",
    "\n",
    "from assignment1.Part_1.perceptron import Perceptron"
   ],
   "metadata": {
    "collapsed": false,
    "ExecuteTime": {
     "end_time": "2024-03-09T10:19:46.896327Z",
     "start_time": "2024-03-09T10:19:46.893529Z"
    }
   },
   "id": "94df6737b1534c91"
  },
  {
   "cell_type": "markdown",
   "source": [
    "## 1 The Perceptron\n",
    "\n",
    "## 1.1 Generate Dataset"
   ],
   "metadata": {
    "collapsed": false
   },
   "id": "23a6ff32794eb50e"
  },
  {
   "cell_type": "code",
   "execution_count": 44,
   "outputs": [],
   "source": [
    "dataset = []\n",
    "centers = [[12, 11], [30, 27]]\n",
    "stds = [[3, 12], [7, 10]]\n",
    "\n",
    "for i in range(100):\n",
    "    x0 = np.random.normal(centers[0][0], stds[0][0])\n",
    "    y0 = np.random.normal(centers[0][1], stds[0][1])\n",
    "    x1 = np.random.normal(centers[1][0], stds[1][0])\n",
    "    y1 = np.random.normal(centers[1][1], stds[1][1])\n",
    "    dataset.append([x0, y0, -1])\n",
    "    dataset.append([x1, y1, +1])\n",
    "\n",
    "dataset_train = np.array(dataset[:160])\n",
    "dataset_test = np.array(dataset[160:])"
   ],
   "metadata": {
    "collapsed": false,
    "ExecuteTime": {
     "end_time": "2024-03-09T10:19:46.902415Z",
     "start_time": "2024-03-09T10:19:46.898220Z"
    }
   },
   "id": "c4f7c01d894214e0"
  },
  {
   "cell_type": "markdown",
   "source": [
    "## 1.2 Implement Perceptron\n",
    "\n",
    "## 1.3 Train and Test, with Result of Accuracy"
   ],
   "metadata": {
    "collapsed": false
   },
   "id": "f3aa9d988f3589e0"
  },
  {
   "cell_type": "code",
   "outputs": [],
   "source": [
    "perceptron = Perceptron(np.shape(dataset_train[0][:-1]))\n",
    "perceptron.train(dataset_train[:,:-1], dataset_train[:,-1:])\n"
   ],
   "metadata": {
    "collapsed": false,
    "ExecuteTime": {
     "end_time": "2024-03-09T10:19:47.181012Z",
     "start_time": "2024-03-09T10:19:46.903649Z"
    }
   },
   "id": "6cce2aa7d631f0a1",
   "execution_count": 45
  },
  {
   "cell_type": "code",
   "outputs": [],
   "source": [],
   "metadata": {
    "collapsed": false,
    "ExecuteTime": {
     "end_time": "2024-03-09T10:19:47.183354Z",
     "start_time": "2024-03-09T10:19:47.182036Z"
    }
   },
   "id": "eb4fd0c0bce4bc87",
   "execution_count": 45
  }
 ],
 "metadata": {
  "kernelspec": {
   "display_name": "Python 3",
   "language": "python",
   "name": "python3"
  },
  "language_info": {
   "codemirror_mode": {
    "name": "ipython",
    "version": 2
   },
   "file_extension": ".py",
   "mimetype": "text/x-python",
   "name": "python",
   "nbconvert_exporter": "python",
   "pygments_lexer": "ipython2",
   "version": "2.7.6"
  }
 },
 "nbformat": 4,
 "nbformat_minor": 5
}
